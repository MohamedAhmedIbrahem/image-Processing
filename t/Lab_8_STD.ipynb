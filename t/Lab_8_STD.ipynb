{
 "cells": [
  {
   "cell_type": "markdown",
   "metadata": {},
   "source": [
    "# Lab 8\n",
    "### Seg 3 - Kmeans - Hough\n",
    "\n",
    "threshold_otsu: http://scikit-image.org/docs/dev/api/skimage.filters.html\n",
    "                Good Visualization here: https://en.wikipedia.org/wiki/Otsu%27s_method\n",
    "                \n",
    "                "
   ]
  },
  {
   "cell_type": "code",
   "execution_count": 1,
   "metadata": {},
   "outputs": [],
   "source": [
    "from commonfunctions import *\n",
    "\n",
    "%matplotlib inline\n",
    "%load_ext autoreload\n",
    "%autoreload 2"
   ]
  },
  {
   "cell_type": "code",
   "execution_count": 2,
   "metadata": {},
   "outputs": [
    {
     "name": "stdout",
     "output_type": "stream",
     "text": [
      "[10  9  8  7  6  5  4  3  2  1]\n",
      "[3 3 1 8]\n",
      "[7 7 9 2]\n"
     ]
    }
   ],
   "source": [
    "'''\n",
    "Example\n",
    "Array Indexing important note\n",
    "'''\n",
    "x= np.arange(10,0,-1)\n",
    "indexesArray = np.array([3, 3, 1, 8])\n",
    "print(x)\n",
    "print(indexesArray)\n",
    "print(x[indexesArray])\n",
    "# Try it if x "
   ]
  },
  {
   "cell_type": "code",
   "execution_count": 3,
   "metadata": {},
   "outputs": [
    {
     "name": "stdout",
     "output_type": "stream",
     "text": [
      "[[ 1  2  3  4  5]\n",
      " [ 6  7  8  9 10]\n",
      " [11 12 13 14 15]]\n",
      "(3, 5)\n",
      "[ 1  2  3  4  5  6  7  8  9 10 11 12 13 14 15]\n"
     ]
    }
   ],
   "source": [
    "'''\n",
    "@TODO\n",
    "Requirement\n",
    "Try the same concept on multidimensional array x\n",
    "Don't forget to convert x to numpy array\n",
    "'''\n",
    "x = np.array([[1,2,3,4,5],[6,7,8,9,10],[11,12,13,14,15]])\n",
    "print(x)\n",
    "print(x.shape)\n",
    "reshaped = x.reshape(x.shape[0]*x.shape[1])\n",
    "print(reshaped)\n",
    "\n",
    "\n"
   ]
  },
  {
   "cell_type": "code",
   "execution_count": 21,
   "metadata": {},
   "outputs": [
    {
     "data": {
      "image/png": "[encoded data removed]",
      "text/plain": [
       "<Figure size 432x288 with 1 Axes>"
      ]
     },
     "metadata": {
      "needs_background": "light"
     },
     "output_type": "display_data"
    },
    {
     "data": {
      "image/png": "[encoded data removed]",
      "text/plain": [
       "<Figure size 432x288 with 1 Axes>"
      ]
     },
     "metadata": {
      "needs_background": "light"
     },
     "output_type": "display_data"
    }
   ],
   "source": [
    "image = io.imread('balls.jpg')\n",
    "\n",
    "[x, y, z ]= image.shape\n",
    "img2d = image.reshape(x*y, z)\n",
    "io.imshow(image)\n",
    "io.show()\n",
    "## TODO: Construct kmeans object using cluster.KMeans with appropriate n_clusters\n",
    "obj = cluster.KMeans(9).fit(img2d)\n",
    "## TODO: Fit the kmeans object with the data of the image\n",
    "colors = [[0,0,255],[255,0,0],[0,255,0],[100,100,100],[50,50,50],[25,25,25],[0,0,0],[255,255,255],[70,70,70]]\n",
    "for i in range(len(obj.labels_)):\n",
    "    x = int(np.floor(i/image.shape[1]))\n",
    "    y = i%image.shape[1]\n",
    "    for j in range(0,3):\n",
    "        image[x][y][j] = colors[obj.labels_[i]][j]\n",
    "io.imshow(image)\n",
    "io.show()\n"
   ]
  },
  {
   "cell_type": "code",
   "execution_count": null,
   "metadata": {},
   "outputs": [],
   "source": [
    "'''\n",
    "\n",
    "@TODO:\n",
    "This experiment should be done on Gray scale and on one channel of RGB or HSV\n",
    "\n",
    "use threshold_otsu to get the threshold that should be used to divide the values.\n",
    "'''\n",
    "\n"
   ]
  },
  {
   "cell_type": "code",
   "execution_count": null,
   "metadata": {},
   "outputs": [],
   "source": [
    "import numpy as np\n",
    "\n",
    "\n",
    "def drawLine(ax,angle, dist):\n",
    "    '''\n",
    "    This function should draw the lines, given axis(ax), the angle and the distance parameters\n",
    "    \n",
    "    TODO:\n",
    "    Get x1,y1,x2,y2\n",
    "    '''\n",
    "    \n",
    "    \n",
    "    \n",
    "    # This line draws the line in red\n",
    "    \n",
    "    ax[1].plot((x1, y1), (x2, y2), '-r')\n",
    "\n",
    "'''TODO: \n",
    "1- Read image\n",
    "2- Get edges using Canny.\n",
    "3- Show image and edges side-by-side.\n",
    "4- Call hough lines on edges and get the results (houghSpace,angles, distances)\n",
    "5- Get Hough Line Peaks with different thresholds: the default threshold is 0.5 *max(hspace)\n",
    "* What is the effect of the threshold?\n",
    "* What is the meaning of the outputs of hough_line,hough_line_peak? Hint:print them.\n",
    "* Why do we use canny before hough?!\n",
    "'''\n",
    "\n",
    "\n",
    "\n",
    "\n",
    "\n",
    "\n",
    "## This part draw the lines on the image.\n",
    "\n",
    "fig, axes = plt.subplots(1, 2, figsize=(20, 6))\n",
    "ax = axes.ravel()\n",
    "\n",
    "ax[0].imshow(image, cmap=cm.gray)\n",
    "ax[0].set_title('Input image')\n",
    "ax[0].set_axis_off()\n",
    "\n",
    "\n",
    "ax[1].imshow(image, cmap=cm.gray)\n",
    "for angle, dist in zip(angles,dists):\n",
    "    drawLine(ax,angle, dist)\n",
    "ax[1].set_xlim((0, image.shape[1]))\n",
    "ax[1].set_ylim((image.shape[0], 0))\n",
    "ax[1].set_axis_off()\n",
    "ax[1].set_title('Detected lines')\n",
    "\n",
    "plt.tight_layout()\n",
    "plt.show()\n",
    "\n"
   ]
  },
  {
   "cell_type": "code",
   "execution_count": null,
   "metadata": {},
   "outputs": [],
   "source": []
  }
 ],
 "metadata": {
  "kernelspec": {
   "display_name": "Python 3",
   "language": "python",
   "name": "python3"
  },
  "language_info": {
   "codemirror_mode": {
    "name": "ipython",
    "version": 3
   },
   "file_extension": ".py",
   "mimetype": "text/x-python",
   "name": "python",
   "nbconvert_exporter": "python",
   "pygments_lexer": "ipython3",
   "version": "3.7.3"
  }
 },
 "nbformat": 4,
 "nbformat_minor": 2
}
